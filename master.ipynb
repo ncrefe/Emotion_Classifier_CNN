{
 "cells": [
  {
   "cell_type": "code",
   "execution_count": 7,
   "metadata": {
    "collapsed": true
   },
   "outputs": [],
   "source": [
    "import tensorflow as tf\n",
    "import os\n",
    "import numpy as np\n",
    "import matplotlib.pyplot as plt\n",
    "import scipy\n",
    "import scipy.ndimage\n"
   ]
  },
  {
   "cell_type": "code",
   "execution_count": 8,
   "outputs": [],
   "source": [
    "train_dir = \"data\"\n",
    "validation_dir = \"validation\""
   ],
   "metadata": {
    "collapsed": false
   }
  },
  {
   "cell_type": "code",
   "execution_count": 9,
   "outputs": [],
   "source": [
    "IMG_HEIGHT = 224\n",
    "IMG_WIDTH = 224\n",
    "BATCH_SIZE = 32\n",
    "NUM_CLASSES = 3\n",
    "EPOCHS = 10"
   ],
   "metadata": {
    "collapsed": false
   }
  },
  {
   "cell_type": "code",
   "execution_count": 10,
   "outputs": [],
   "source": [
    "model = tf.keras.Sequential([\n",
    "    tf.keras.layers.Conv2D(32, (3, 3), activation='relu', input_shape=(IMG_HEIGHT, IMG_WIDTH, 3)),\n",
    "    tf.keras.layers.MaxPooling2D((2, 2)),\n",
    "    tf.keras.layers.Conv2D(64, (3, 3), activation='relu'),\n",
    "    tf.keras.layers.MaxPooling2D((2, 2)),\n",
    "    tf.keras.layers.Conv2D(128, (3, 3), activation='relu'),\n",
    "    tf.keras.layers.MaxPooling2D((2, 2)),\n",
    "    tf.keras.layers.Flatten(),\n",
    "    tf.keras.layers.Dense(128, activation='relu'),\n",
    "    tf.keras.layers.Dense(NUM_CLASSES, activation='softmax')\n",
    "])\n"
   ],
   "metadata": {
    "collapsed": false
   }
  },
  {
   "cell_type": "code",
   "execution_count": 11,
   "outputs": [],
   "source": [
    "model.compile(optimizer='adam',\n",
    "              loss='categorical_crossentropy',\n",
    "              metrics=['accuracy'])"
   ],
   "metadata": {
    "collapsed": false
   }
  },
  {
   "cell_type": "code",
   "execution_count": 12,
   "outputs": [
    {
     "name": "stdout",
     "output_type": "stream",
     "text": [
      "Found 1396 images belonging to 3 classes.\n",
      "Found 300 images belonging to 3 classes.\n",
      "Epoch 1/10\n",
      "44/44 [==============================] - 39s 869ms/step - loss: 1.1884 - accuracy: 0.3725 - val_loss: 1.0983 - val_accuracy: 0.3333\n",
      "Epoch 2/10\n",
      "44/44 [==============================] - 36s 829ms/step - loss: 1.0922 - accuracy: 0.3732 - val_loss: 1.0842 - val_accuracy: 0.3867\n",
      "Epoch 3/10\n",
      "44/44 [==============================] - 37s 833ms/step - loss: 1.0477 - accuracy: 0.4441 - val_loss: 1.0711 - val_accuracy: 0.4633\n",
      "Epoch 4/10\n",
      "44/44 [==============================] - 37s 845ms/step - loss: 0.9530 - accuracy: 0.5365 - val_loss: 1.0477 - val_accuracy: 0.4900\n",
      "Epoch 5/10\n",
      "44/44 [==============================] - 39s 893ms/step - loss: 0.7818 - accuracy: 0.6691 - val_loss: 1.1356 - val_accuracy: 0.5500\n",
      "Epoch 6/10\n",
      "44/44 [==============================] - 40s 912ms/step - loss: 0.5601 - accuracy: 0.7572 - val_loss: 1.3311 - val_accuracy: 0.5100\n",
      "Epoch 7/10\n",
      "44/44 [==============================] - 39s 884ms/step - loss: 0.3361 - accuracy: 0.8689 - val_loss: 1.5067 - val_accuracy: 0.5167\n",
      "Epoch 8/10\n",
      "44/44 [==============================] - 38s 852ms/step - loss: 0.1366 - accuracy: 0.9556 - val_loss: 2.1939 - val_accuracy: 0.4800\n",
      "Epoch 9/10\n",
      "44/44 [==============================] - 38s 855ms/step - loss: 0.0470 - accuracy: 0.9871 - val_loss: 2.9173 - val_accuracy: 0.4900\n",
      "Epoch 10/10\n",
      "44/44 [==============================] - 39s 891ms/step - loss: 0.0132 - accuracy: 0.9986 - val_loss: 3.0627 - val_accuracy: 0.5200\n"
     ]
    }
   ],
   "source": [
    "train_image_generator = tf.keras.preprocessing.image.ImageDataGenerator(rescale=1. / 255)\n",
    "validation_image_generator = tf.keras.preprocessing.image.ImageDataGenerator(rescale=1. / 255)\n",
    "\n",
    "train_data_gen = train_image_generator.flow_from_directory(batch_size=BATCH_SIZE,\n",
    "                                                           directory=train_dir,\n",
    "                                                           shuffle=True,\n",
    "                                                           target_size=(IMG_HEIGHT, IMG_WIDTH),\n",
    "                                                           class_mode='categorical')\n",
    "\n",
    "val_data_gen = validation_image_generator.flow_from_directory(batch_size=BATCH_SIZE,\n",
    "                                                              directory=validation_dir,\n",
    "                                                              shuffle=False,\n",
    "                                                              target_size=(IMG_HEIGHT, IMG_WIDTH),\n",
    "                                                              class_mode='categorical')\n",
    "\n",
    "history = model.fit(train_data_gen,\n",
    "                              epochs=EPOCHS,\n",
    "                              validation_data=val_data_gen)\n"
   ],
   "metadata": {
    "collapsed": false
   }
  },
  {
   "cell_type": "code",
   "execution_count": 13,
   "outputs": [
    {
     "name": "stdout",
     "output_type": "stream",
     "text": [
      "10/10 - 2s - loss: 3.0627 - accuracy: 0.5200 - 2s/epoch - 204ms/step\n",
      "\n",
      "Test accuracy: 0.5199999809265137\n"
     ]
    }
   ],
   "source": [
    "test_loss, test_acc = model.evaluate(val_data_gen, verbose=2)\n",
    "print('\\nTest accuracy:', test_acc)"
   ],
   "metadata": {
    "collapsed": false
   }
  }
 ],
 "metadata": {
  "kernelspec": {
   "display_name": "Python 3",
   "language": "python",
   "name": "python3"
  },
  "language_info": {
   "codemirror_mode": {
    "name": "ipython",
    "version": 2
   },
   "file_extension": ".py",
   "mimetype": "text/x-python",
   "name": "python",
   "nbconvert_exporter": "python",
   "pygments_lexer": "ipython2",
   "version": "2.7.6"
  }
 },
 "nbformat": 4,
 "nbformat_minor": 0
}
